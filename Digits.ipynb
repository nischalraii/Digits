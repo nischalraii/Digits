{
  "nbformat": 4,
  "nbformat_minor": 0,
  "metadata": {
    "colab": {
      "provenance": [],
      "authorship_tag": "ABX9TyO0XY34fmSRRaCNqC07zjOH",
      "include_colab_link": true
    },
    "kernelspec": {
      "name": "python3",
      "display_name": "Python 3"
    },
    "language_info": {
      "name": "python"
    }
  },
  "cells": [
    {
      "cell_type": "markdown",
      "metadata": {
        "id": "view-in-github",
        "colab_type": "text"
      },
      "source": [
        "<a href=\"https://colab.research.google.com/github/nischalraii/Digits/blob/main/Digits.ipynb\" target=\"_parent\"><img src=\"https://colab.research.google.com/assets/colab-badge.svg\" alt=\"Open In Colab\"/></a>"
      ]
    },
    {
      "cell_type": "code",
      "execution_count": null,
      "metadata": {
        "id": "Zw8k_xdBWvtA"
      },
      "outputs": [],
      "source": [
        "import numpy\n",
        "import matplotlib\n",
        "import scipy"
      ]
    },
    {
      "cell_type": "code",
      "source": [
        "class neuralNetwork:\n",
        "\n",
        "  def __init__(self, inputnodes, hiddennodes, secondhiddennodes, outputnodes,learningrate):\n",
        "    self.inodes = inputnodes\n",
        "    self.hnodes = hiddennodes\n",
        "    self.shnodes = secondhiddennodes\n",
        "    self.onodes = outputnodes\n",
        "    self.lr = learningrate\n",
        "\n",
        "    self.wih = numpy.random.normal(0.0, pow(self.hnodes, -0.5),(self.hnodes, self.inodes))\n",
        "    self.whs = numpy.random.normal(0.0, pow(self.shnodes, -0.5),(self.shnodes, self.hnodes))\n",
        "    self.wso = numpy.random.normal(0.0,pow(self.onodes, -0.5), (self.onodes, self.shnodes))\n",
        "    self.activation_function = lambda x: scipy.special.expit(x)\n",
        "    pass\n",
        "\n",
        "  # train the neural network\n",
        "  def train(self, inputs_list, targets_list):\n",
        "    # convert inputs list to 2d array\n",
        "    inputs = numpy.array(inputs_list, ndmin=2).T\n",
        "    targets = numpy.array(targets_list, ndmin=2).T\n",
        "\n",
        "    # calculate signals into hidden layer\n",
        "    hidden_inputs = numpy.dot(self.wih, inputs)\n",
        "\n",
        "    # calculate the signals emerging from hidden layer\n",
        "    hidden_outputs = self.activation_function(hidden_inputs)\n",
        "\n",
        "    second_hidden_inputs = numpy.dot(self.whs, hidden_outputs)\n",
        "    second_hidden_outputs = self.activation_function(second_hidden_inputs)\n",
        "\n",
        "    # calculate signals into final output layer\n",
        "    final_inputs = numpy.dot(self.wso, second_hidden_outputs)\n",
        "\n",
        "    # calculate the signals emerging from final output layer\n",
        "    final_outputs = self.activation_function(final_inputs)\n",
        "\n",
        "    output_errors = targets - final_outputs\n",
        "    second_output_errors = numpy.dot(self.wso.T,output_errors)\n",
        "    hidden_errors = numpy.dot(self.whs.T, second_output_errors)\n",
        "\n",
        "    # update the weights for the links between the second hidden and output layers\n",
        "    self.wso += self.lr * numpy.dot((output_errors * final_outputs * (1.0 - final_outputs)), numpy.transpose(second_hidden_outputs))\n",
        "\n",
        "    # update the weights for the links between the hidden and output layers\n",
        "    self.whs += self.lr * numpy.dot((second_output_errors * second_hidden_outputs * (1.0 - second_hidden_outputs)), numpy.transpose(hidden_outputs))\n",
        "\n",
        "    # update the weights for the links between the input and hidden layers\n",
        "    self.wih += self.lr * numpy.dot((hidden_errors * hidden_outputs * (1.0 - hidden_outputs)), numpy.transpose(inputs))\n",
        "    pass\n",
        "\n",
        "\n",
        "  def query(self,inputs_list):\n",
        "    inputs = numpy.array(inputs_list,ndmin=2).T\n",
        "\n",
        "    hidden_inputs = numpy.dot(self.wih,inputs)\n",
        "    hidden_outputs = self.activation_function(hidden_inputs)\n",
        "\n",
        "    second_hidden_inputs = numpy.dot(self.whs,hidden_outputs)\n",
        "    second_hidden_outputs = self.activation_function(second_hidden_inputs)\n",
        "\n",
        "    final_inputs = numpy.dot(self.wso,second_hidden_outputs)\n",
        "    final_outputs = self.activation_function(final_inputs)\n",
        "\n",
        "    return final_outputs\n"
      ],
      "metadata": {
        "id": "Kcb6aWyFBswL"
      },
      "execution_count": null,
      "outputs": []
    },
    {
      "cell_type": "code",
      "source": [
        "# number of input, hidden, output nodes and learning rate\n",
        "input_nodes = 784\n",
        "hidden_nodes = 100\n",
        "second_hidden_nodes = 100\n",
        "output_nodes = 10\n",
        "learning_rate = 0.05\n",
        "\n",
        "# create instance of neural network\n",
        "n = neuralNetwork(input_nodes, hidden_nodes, second_hidden_nodes, output_nodes, learning_rate)\n"
      ],
      "metadata": {
        "id": "8HID_6K-Btg6"
      },
      "execution_count": null,
      "outputs": []
    },
    {
      "cell_type": "code",
      "source": [
        "data_file = open(\"/content/sample_data/mnist_train_small.csv\", 'r')\n",
        "data_list = data_file.readlines()\n",
        "data_file.close()"
      ],
      "metadata": {
        "id": "5f_G9LLlBuKF"
      },
      "execution_count": null,
      "outputs": []
    },
    {
      "cell_type": "code",
      "source": [
        "epoch = 2\n",
        "for e in range(epoch):\n",
        "  for record in data_list:\n",
        "    all_values = record.split(',')\n",
        "    inputs = numpy.asarray([(float(pixel) / 255.0) * 0.99 + 0.01 for pixel in all_values[1:]])\n",
        "    targets = numpy.zeros(output_nodes) + 0.01\n",
        "    targets[int(all_values[0])] = 0.99\n",
        "    n.train(inputs,targets)\n",
        "    pass"
      ],
      "metadata": {
        "id": "Lu6CiJZJBuax"
      },
      "execution_count": null,
      "outputs": []
    },
    {
      "cell_type": "code",
      "source": [
        "test_data_file = open(\"/content/sample_data/mnist_test.csv\", 'r')\n",
        "test_data_list = test_data_file.readlines()\n",
        "test_data_file.close()\n"
      ],
      "metadata": {
        "id": "NbjhFP8-Bunc"
      },
      "execution_count": null,
      "outputs": []
    },
    {
      "cell_type": "code",
      "source": [
        "#check = numpy.asarray([(float(pixel) / 255.0) * 0.99 + 0.01 for pixel in first_value[1:]])\n",
        "# len(check)"
      ],
      "metadata": {
        "id": "XzQdO9CAUy79"
      },
      "execution_count": null,
      "outputs": []
    },
    {
      "cell_type": "code",
      "source": [
        "scorecard = []\n",
        "for record in test_data_list:\n",
        "  # split the record by the ',' commas\n",
        "  all_values = record.split(',')\n",
        "\n",
        "  # correct answer is first value\n",
        "  correct_label = int(all_values[0])\n",
        "\n",
        "  # scale and shift the inputs\n",
        "  inputs = numpy.asarray([(float(pixel) / 255.0) * 0.99 + 0.01 for pixel in all_values[1:]])\n",
        "\n",
        "  # query the network\n",
        "  outputs = n.query(inputs)\n",
        "\n",
        "  # the index of the highest value corresponds to the label\n",
        "  label = numpy.argmax(outputs)\n",
        "\n",
        "  # append correct or incorrect to list\n",
        "  if (label == correct_label):\n",
        "    # network's answer matches correct answer, add 1 to scorecard\n",
        "    scorecard.append(1)\n",
        "  else:\n",
        "    # network's answer doesn't match correct answer, add 0 to scorecard\n",
        "    scorecard.append(0)\n",
        "    pass\n",
        "  pass\n",
        "\n",
        "# calculate the performance score, the fraction of correct answers\n",
        "scorecard_array = numpy.asarray(scorecard)\n",
        "print (\"performance = \", scorecard_array.sum() / scorecard_array.size)"
      ],
      "metadata": {
        "colab": {
          "base_uri": "https://localhost:8080/"
        },
        "id": "3jlOg72YS4A3",
        "outputId": "7dadb70e-68b1-4013-a1e9-86c677165a04"
      },
      "execution_count": null,
      "outputs": [
        {
          "output_type": "stream",
          "name": "stdout",
          "text": [
            "performance =  0.9482\n"
          ]
        }
      ]
    }
  ]
}